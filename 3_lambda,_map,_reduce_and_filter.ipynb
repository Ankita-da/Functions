{
  "cells": [
    {
      "cell_type": "markdown",
      "metadata": {
        "id": "view-in-github",
        "colab_type": "text"
      },
      "source": [
        "<a href=\"https://colab.research.google.com/github/Ankita-da/Functions/blob/main/3_lambda%2C_map%2C_reduce_and_filter.ipynb\" target=\"_parent\"><img src=\"https://colab.research.google.com/assets/colab-badge.svg\" alt=\"Open In Colab\"/></a>"
      ]
    },
    {
      "cell_type": "code",
      "execution_count": null,
      "id": "0f78f380-670f-4e6f-a3d4-f5457c2cc198",
      "metadata": {
        "id": "0f78f380-670f-4e6f-a3d4-f5457c2cc198"
      },
      "outputs": [],
      "source": [
        "#lambda function>> anonymous function\n",
        "#syntax\n",
        "# lambda arguments : expression >> no need of return statement and def keyword"
      ]
    },
    {
      "cell_type": "code",
      "execution_count": null,
      "id": "00968b1e-eb53-4ee6-8e7e-dbb7793b4eef",
      "metadata": {
        "id": "00968b1e-eb53-4ee6-8e7e-dbb7793b4eef",
        "outputId": "72e2b092-cf3f-4906-e324-3aae439aa29d"
      },
      "outputs": [
        {
          "data": {
            "text/plain": [
              "4"
            ]
          },
          "execution_count": 2,
          "metadata": {},
          "output_type": "execute_result"
        }
      ],
      "source": [
        "def square(x):\n",
        "    return x**2\n",
        "square(2)"
      ]
    },
    {
      "cell_type": "code",
      "execution_count": null,
      "id": "deb4337c-9dcb-4fa5-a979-9814e97b4874",
      "metadata": {
        "id": "deb4337c-9dcb-4fa5-a979-9814e97b4874"
      },
      "outputs": [],
      "source": [
        "sq_lambda = lambda x: x**2"
      ]
    },
    {
      "cell_type": "code",
      "execution_count": null,
      "id": "5fdd1c64-25ab-4fca-a7d6-29a723aedb5a",
      "metadata": {
        "id": "5fdd1c64-25ab-4fca-a7d6-29a723aedb5a",
        "outputId": "1ec7900e-2497-4249-94df-21cb5d91fea3"
      },
      "outputs": [
        {
          "data": {
            "text/plain": [
              "4"
            ]
          },
          "execution_count": 4,
          "metadata": {},
          "output_type": "execute_result"
        }
      ],
      "source": [
        "sq_lambda(2)"
      ]
    },
    {
      "cell_type": "code",
      "execution_count": null,
      "id": "d18ac601-d720-475d-aa1b-f504c921b86f",
      "metadata": {
        "id": "d18ac601-d720-475d-aa1b-f504c921b86f"
      },
      "outputs": [],
      "source": [
        "add = lambda a, b: a+b"
      ]
    },
    {
      "cell_type": "code",
      "execution_count": null,
      "id": "6a418bc6-784a-4dc9-af88-b4206f7958a3",
      "metadata": {
        "id": "6a418bc6-784a-4dc9-af88-b4206f7958a3",
        "outputId": "8bb2bbdb-a033-43d7-ee75-23e7e50c4711"
      },
      "outputs": [
        {
          "data": {
            "text/plain": [
              "7"
            ]
          },
          "execution_count": 6,
          "metadata": {},
          "output_type": "execute_result"
        }
      ],
      "source": [
        "add(2, 5)"
      ]
    },
    {
      "cell_type": "code",
      "execution_count": null,
      "id": "3604e5e8-104a-4afd-82c2-043f38cdb347",
      "metadata": {
        "id": "3604e5e8-104a-4afd-82c2-043f38cdb347",
        "outputId": "b3e7d161-6efd-4cbc-b3b1-e048d724f108"
      },
      "outputs": [
        {
          "data": {
            "text/plain": [
              "True"
            ]
          },
          "execution_count": 8,
          "metadata": {},
          "output_type": "execute_result"
        }
      ],
      "source": [
        "is_even = lambda x: x%2 == 0\n",
        "is_even(4)"
      ]
    },
    {
      "cell_type": "code",
      "execution_count": null,
      "id": "f9e12039-b129-47f2-8803-fdf65bdf0dda",
      "metadata": {
        "id": "f9e12039-b129-47f2-8803-fdf65bdf0dda",
        "outputId": "dc248171-dc2a-4f86-95e5-509f2b44b1b6"
      },
      "outputs": [
        {
          "data": {
            "text/plain": [
              "['Python', 'Data Science', 'Ajay']"
            ]
          },
          "execution_count": 12,
          "metadata": {},
          "output_type": "execute_result"
        }
      ],
      "source": [
        "x = [\"Python\", \"Data Science\", \"Ajay\"]\n",
        "x"
      ]
    },
    {
      "cell_type": "code",
      "execution_count": null,
      "id": "57810e3f-3738-462a-854c-042f23eb18fe",
      "metadata": {
        "id": "57810e3f-3738-462a-854c-042f23eb18fe",
        "outputId": "84bb7808-f1e9-4a19-d154-bab1e9ce79f2"
      },
      "outputs": [
        {
          "data": {
            "text/plain": [
              "['Ajay', 'Data Science', 'Python']"
            ]
          },
          "execution_count": 10,
          "metadata": {},
          "output_type": "execute_result"
        }
      ],
      "source": [
        "sorted(x) #by default sorting based on alphabetical order"
      ]
    },
    {
      "cell_type": "code",
      "execution_count": null,
      "id": "6a5fa032-8f57-4297-b335-d42b0f80a237",
      "metadata": {
        "id": "6a5fa032-8f57-4297-b335-d42b0f80a237",
        "outputId": "5f9b4283-84d4-4391-f1f7-127c676c2a23"
      },
      "outputs": [
        {
          "data": {
            "text/plain": [
              "4"
            ]
          },
          "execution_count": 11,
          "metadata": {},
          "output_type": "execute_result"
        }
      ],
      "source": [
        "#sort the list based on length of element of list\n",
        "le = lambda x: len(x)\n",
        "le(\"Ajay\")"
      ]
    },
    {
      "cell_type": "code",
      "execution_count": null,
      "id": "59d6443a-44ed-4898-a8a2-ad0cae26eccd",
      "metadata": {
        "id": "59d6443a-44ed-4898-a8a2-ad0cae26eccd",
        "outputId": "db157a75-5232-4806-e7df-e2ef6518e94a"
      },
      "outputs": [
        {
          "data": {
            "text/plain": [
              "['Ajay', 'Python', 'Data Science']"
            ]
          },
          "execution_count": 13,
          "metadata": {},
          "output_type": "execute_result"
        }
      ],
      "source": [
        "sorted(x, key = lambda x: len(x))"
      ]
    },
    {
      "cell_type": "code",
      "execution_count": null,
      "id": "bd66a2b9-1acb-4c1b-a5b4-b1aed71efec8",
      "metadata": {
        "id": "bd66a2b9-1acb-4c1b-a5b4-b1aed71efec8",
        "outputId": "fcedc12a-eb45-4ad5-a8fc-f81968b01eb8"
      },
      "outputs": [
        {
          "data": {
            "text/plain": [
              "[0, 1, 1, 2, 3, 5, 8, 13, 21, 34]"
            ]
          },
          "execution_count": 15,
          "metadata": {},
          "output_type": "execute_result"
        }
      ],
      "source": [
        "fib = lambda n: n if n<=1 else fib(n-1) + fib(n-2)\n",
        "[fib(i) for i in range(10)]"
      ]
    },
    {
      "cell_type": "code",
      "execution_count": null,
      "id": "1b76b2e6-8d39-4b02-a251-cc4c516fb3cc",
      "metadata": {
        "id": "1b76b2e6-8d39-4b02-a251-cc4c516fb3cc"
      },
      "outputs": [],
      "source": [
        "#factorial of 5 >> 5*4*3*2*1 and 0! is 1"
      ]
    },
    {
      "cell_type": "code",
      "execution_count": null,
      "id": "20510b42-1d6d-46ce-b9b6-4e097e5de4a3",
      "metadata": {
        "id": "20510b42-1d6d-46ce-b9b6-4e097e5de4a3"
      },
      "outputs": [],
      "source": [
        "def fact_num(n):\n",
        "    if n==0:\n",
        "        return 1\n",
        "    else:\n",
        "        return n*fact_num(n-1)"
      ]
    },
    {
      "cell_type": "code",
      "execution_count": null,
      "id": "e3ec2d74-387d-4d5d-bb98-02a69aa03547",
      "metadata": {
        "id": "e3ec2d74-387d-4d5d-bb98-02a69aa03547",
        "outputId": "404daa00-7c94-4709-ac65-d8526205d104"
      },
      "outputs": [
        {
          "data": {
            "text/plain": [
              "120"
            ]
          },
          "execution_count": 18,
          "metadata": {},
          "output_type": "execute_result"
        }
      ],
      "source": [
        "fact_num(5)"
      ]
    },
    {
      "cell_type": "code",
      "execution_count": null,
      "id": "04a244ce-5047-4094-984b-06f5dec1c54a",
      "metadata": {
        "id": "04a244ce-5047-4094-984b-06f5dec1c54a",
        "outputId": "229ecdda-8314-45e4-8f2a-fa4ff158b23c"
      },
      "outputs": [
        {
          "data": {
            "text/plain": [
              "120"
            ]
          },
          "execution_count": 20,
          "metadata": {},
          "output_type": "execute_result"
        }
      ],
      "source": [
        "fact_num = lambda n: 1 if n==0 else n*fact_num(n-1)\n",
        "fact_num(5)"
      ]
    },
    {
      "cell_type": "code",
      "execution_count": null,
      "id": "c8a302c1-9e8d-4812-a29b-1ceba6c247fd",
      "metadata": {
        "id": "c8a302c1-9e8d-4812-a29b-1ceba6c247fd"
      },
      "outputs": [],
      "source": [
        "#map >> executes a specified function for each of iterm of an iterable\n",
        "#syntax >> map(func,*iterables)"
      ]
    },
    {
      "cell_type": "code",
      "execution_count": null,
      "id": "03604164-ffcb-4341-873b-7be905dd2291",
      "metadata": {
        "id": "03604164-ffcb-4341-873b-7be905dd2291",
        "outputId": "4028d581-a413-4ac1-e575-096b0a1943ee"
      },
      "outputs": [
        {
          "name": "stdout",
          "output_type": "stream",
          "text": [
            "Help on class map in module builtins:\n",
            "\n",
            "class map(object)\n",
            " |  map(func, *iterables) --> map object\n",
            " |  \n",
            " |  Make an iterator that computes the function using arguments from\n",
            " |  each of the iterables.  Stops when the shortest iterable is exhausted.\n",
            " |  \n",
            " |  Methods defined here:\n",
            " |  \n",
            " |  __getattribute__(self, name, /)\n",
            " |      Return getattr(self, name).\n",
            " |  \n",
            " |  __iter__(self, /)\n",
            " |      Implement iter(self).\n",
            " |  \n",
            " |  __next__(self, /)\n",
            " |      Implement next(self).\n",
            " |  \n",
            " |  __reduce__(...)\n",
            " |      Return state information for pickling.\n",
            " |  \n",
            " |  ----------------------------------------------------------------------\n",
            " |  Static methods defined here:\n",
            " |  \n",
            " |  __new__(*args, **kwargs) from builtins.type\n",
            " |      Create and return a new object.  See help(type) for accurate signature.\n",
            "\n"
          ]
        }
      ],
      "source": [
        "help(map)"
      ]
    },
    {
      "cell_type": "code",
      "execution_count": null,
      "id": "a47de75a-c0b8-4fb0-b839-5613454fe21d",
      "metadata": {
        "id": "a47de75a-c0b8-4fb0-b839-5613454fe21d"
      },
      "outputs": [],
      "source": [
        "l = [1, 2, 3, 4, 5]\n",
        "def square(l):\n",
        "    sq = []\n",
        "    for i in l:\n",
        "        sq.append(i**2)\n",
        "    return sq"
      ]
    },
    {
      "cell_type": "code",
      "execution_count": null,
      "id": "966988af-2d0d-408d-a508-72f95f6bef63",
      "metadata": {
        "id": "966988af-2d0d-408d-a508-72f95f6bef63",
        "outputId": "e2b113be-d32e-4fd8-a38e-711be63c7e8f"
      },
      "outputs": [
        {
          "data": {
            "text/plain": [
              "[1, 4, 9, 16, 25]"
            ]
          },
          "execution_count": 24,
          "metadata": {},
          "output_type": "execute_result"
        }
      ],
      "source": [
        "square(l)"
      ]
    },
    {
      "cell_type": "code",
      "execution_count": null,
      "id": "bc6c7ae4-cd2e-4cf8-ad0e-2d9ba5188b30",
      "metadata": {
        "id": "bc6c7ae4-cd2e-4cf8-ad0e-2d9ba5188b30"
      },
      "outputs": [],
      "source": [
        "def sq(x):\n",
        "    return x**2"
      ]
    },
    {
      "cell_type": "code",
      "execution_count": null,
      "id": "4d4bbd29-b733-47ee-a8c5-c37641a715b7",
      "metadata": {
        "id": "4d4bbd29-b733-47ee-a8c5-c37641a715b7",
        "outputId": "52babfae-49f5-4fc3-e82c-0da9d1b99689"
      },
      "outputs": [
        {
          "data": {
            "text/plain": [
              "[1, 2, 3, 4, 5]"
            ]
          },
          "execution_count": 26,
          "metadata": {},
          "output_type": "execute_result"
        }
      ],
      "source": [
        "l"
      ]
    },
    {
      "cell_type": "code",
      "execution_count": null,
      "id": "49e96706-65f0-46ba-a19a-62fe34953d76",
      "metadata": {
        "id": "49e96706-65f0-46ba-a19a-62fe34953d76",
        "outputId": "271f1cb7-94d8-437d-dccd-d98bb175b686"
      },
      "outputs": [
        {
          "data": {
            "text/plain": [
              "[1, 4, 9, 16, 25]"
            ]
          },
          "execution_count": 28,
          "metadata": {},
          "output_type": "execute_result"
        }
      ],
      "source": [
        "#map(func, iterable)\n",
        "list(map(sq, l))"
      ]
    },
    {
      "cell_type": "code",
      "execution_count": null,
      "id": "77cb292c-99ad-4369-a6c4-5c3b8bf84ab2",
      "metadata": {
        "id": "77cb292c-99ad-4369-a6c4-5c3b8bf84ab2",
        "outputId": "fea58b6a-e834-43b1-e8c1-290291338acc"
      },
      "outputs": [
        {
          "data": {
            "text/plain": [
              "[11, 12, 13, 14, 15]"
            ]
          },
          "execution_count": 29,
          "metadata": {},
          "output_type": "execute_result"
        }
      ],
      "source": [
        "def add(x):\n",
        "    return x+10\n",
        "\n",
        "list(map(add, l))"
      ]
    },
    {
      "cell_type": "code",
      "execution_count": null,
      "id": "6b24e390-311b-4c5a-94ac-81b55d685cca",
      "metadata": {
        "id": "6b24e390-311b-4c5a-94ac-81b55d685cca",
        "outputId": "b5469737-842f-4e05-d542-293e9689ec27"
      },
      "outputs": [
        {
          "data": {
            "text/plain": [
              "[1, 4, 9, 16, 25]"
            ]
          },
          "execution_count": 30,
          "metadata": {},
          "output_type": "execute_result"
        }
      ],
      "source": [
        "#using lambda with map\n",
        "list(map(lambda x: x**2, l))"
      ]
    },
    {
      "cell_type": "code",
      "execution_count": null,
      "id": "48ca3a32-f176-4e2b-a36d-df1df24acdbe",
      "metadata": {
        "id": "48ca3a32-f176-4e2b-a36d-df1df24acdbe",
        "outputId": "45e0d724-867a-4547-a598-ad89591cf008"
      },
      "outputs": [
        {
          "data": {
            "text/plain": [
              "[11, 12, 13, 14, 15]"
            ]
          },
          "execution_count": 31,
          "metadata": {},
          "output_type": "execute_result"
        }
      ],
      "source": [
        "list(map(lambda x: x+10, l))"
      ]
    },
    {
      "cell_type": "code",
      "execution_count": null,
      "id": "15d1957c-22a3-41fe-8744-83d999149957",
      "metadata": {
        "id": "15d1957c-22a3-41fe-8744-83d999149957",
        "outputId": "423269c1-65a9-408a-e3e7-874a6a911998"
      },
      "outputs": [
        {
          "data": {
            "text/plain": [
              "[1, 2, 3]"
            ]
          },
          "execution_count": 32,
          "metadata": {},
          "output_type": "execute_result"
        }
      ],
      "source": [
        "l = [\"1\", \"2\", \"3\"]\n",
        "list(map(lambda x: int(x), l))"
      ]
    },
    {
      "cell_type": "code",
      "execution_count": null,
      "id": "fa02bd4f-581e-43c6-a2e0-c55678d4a8af",
      "metadata": {
        "id": "fa02bd4f-581e-43c6-a2e0-c55678d4a8af",
        "outputId": "682d7f59-aa37-495e-ef28-eeb24f87275c"
      },
      "outputs": [
        {
          "data": {
            "text/plain": [
              "[101, 202, 303, 404]"
            ]
          },
          "execution_count": 33,
          "metadata": {},
          "output_type": "execute_result"
        }
      ],
      "source": [
        "l1 = [100, 200,300, 400]\n",
        "l2 = [1, 2, 3, 4]\n",
        "list(map(lambda x, y : x+y, l1, l2))"
      ]
    },
    {
      "cell_type": "code",
      "execution_count": null,
      "id": "844ed764-2083-407b-8eb7-5150cb312dd0",
      "metadata": {
        "id": "844ed764-2083-407b-8eb7-5150cb312dd0",
        "outputId": "85d2bdb9-b39f-4892-fc0b-d654bd3a89c7"
      },
      "outputs": [
        {
          "data": {
            "text/plain": [
              "['P', 'W', 'S', 'K', 'I', 'L', 'L', 'S']"
            ]
          },
          "execution_count": 34,
          "metadata": {},
          "output_type": "execute_result"
        }
      ],
      "source": [
        "s = \"pwskills\"\n",
        "list(map(lambda x: x.upper(),s))"
      ]
    },
    {
      "cell_type": "code",
      "execution_count": null,
      "id": "3cd051cb-5752-48b2-8581-cc70e7e9018f",
      "metadata": {
        "id": "3cd051cb-5752-48b2-8581-cc70e7e9018f",
        "outputId": "01bc77a2-07f5-48d9-db8c-4ff6b6d528b1"
      },
      "outputs": [
        {
          "data": {
            "text/plain": [
              "['Python', 'Ajay']"
            ]
          },
          "execution_count": 35,
          "metadata": {},
          "output_type": "execute_result"
        }
      ],
      "source": [
        "words = [\"python\", \"ajay\"]\n",
        "list(map(str.capitalize, words))"
      ]
    },
    {
      "cell_type": "code",
      "execution_count": null,
      "id": "c1268fbb-40b5-459f-9e38-42e86ce09a14",
      "metadata": {
        "id": "c1268fbb-40b5-459f-9e38-42e86ce09a14",
        "outputId": "beb38206-f9cc-47d2-cba7-d3c0d17c71ad"
      },
      "outputs": [
        {
          "data": {
            "text/plain": [
              "[4, 3, 2, 2]"
            ]
          },
          "execution_count": 36,
          "metadata": {},
          "output_type": "execute_result"
        }
      ],
      "source": [
        "grades = [\"A\", \"B\", \"C\", \"D\"]\n",
        "list(map(lambda grade: 4 if grade == \"A\" else (3 if grade == \"B\" else 2), grades))"
      ]
    },
    {
      "cell_type": "code",
      "execution_count": null,
      "id": "6edb7bf6-9857-4047-a1a7-5d5989c451d2",
      "metadata": {
        "id": "6edb7bf6-9857-4047-a1a7-5d5989c451d2"
      },
      "outputs": [],
      "source": [
        "#reduce >> folding/reduction\n",
        "#syntax>> #reduce(func, iterable)\n",
        "#reduce will always take two arguement function\n",
        "from functools import reduce"
      ]
    },
    {
      "cell_type": "code",
      "execution_count": null,
      "id": "57d263e4-23a7-438d-8ee4-29d3ee3e3c92",
      "metadata": {
        "id": "57d263e4-23a7-438d-8ee4-29d3ee3e3c92",
        "outputId": "07a1d5e5-8201-45fe-a396-5de064316d0b"
      },
      "outputs": [
        {
          "data": {
            "text/plain": [
              "25"
            ]
          },
          "execution_count": 38,
          "metadata": {},
          "output_type": "execute_result"
        }
      ],
      "source": [
        "l = [2, 1, 3, 4, 4, 5, 6]\n",
        "reduce(lambda x, y:x+y, l)"
      ]
    },
    {
      "cell_type": "code",
      "execution_count": null,
      "id": "2ed1de8e-170a-4b9b-b840-a0de8f5a450b",
      "metadata": {
        "id": "2ed1de8e-170a-4b9b-b840-a0de8f5a450b",
        "outputId": "f10e5999-f636-46b7-c9f2-1f7869ecc732"
      },
      "outputs": [
        {
          "ename": "TypeError",
          "evalue": "<lambda>() missing 1 required positional argument: 'z'",
          "output_type": "error",
          "traceback": [
            "\u001b[0;31m---------------------------------------------------------------------------\u001b[0m",
            "\u001b[0;31mTypeError\u001b[0m                                 Traceback (most recent call last)",
            "Cell \u001b[0;32mIn[40], line 2\u001b[0m\n\u001b[1;32m      1\u001b[0m l \u001b[38;5;241m=\u001b[39m [\u001b[38;5;241m2\u001b[39m, \u001b[38;5;241m1\u001b[39m, \u001b[38;5;241m3\u001b[39m, \u001b[38;5;241m4\u001b[39m, \u001b[38;5;241m5\u001b[39m, \u001b[38;5;241m6\u001b[39m]\n\u001b[0;32m----> 2\u001b[0m \u001b[43mreduce\u001b[49m\u001b[43m(\u001b[49m\u001b[38;5;28;43;01mlambda\u001b[39;49;00m\u001b[43m \u001b[49m\u001b[43mx\u001b[49m\u001b[43m,\u001b[49m\u001b[43m \u001b[49m\u001b[43my\u001b[49m\u001b[43m,\u001b[49m\u001b[43mz\u001b[49m\u001b[43m:\u001b[49m\u001b[43mx\u001b[49m\u001b[38;5;241;43m+\u001b[39;49m\u001b[43my\u001b[49m\u001b[38;5;241;43m+\u001b[39;49m\u001b[43mz\u001b[49m\u001b[43m,\u001b[49m\u001b[43m \u001b[49m\u001b[43ml\u001b[49m\u001b[43m)\u001b[49m\n",
            "\u001b[0;31mTypeError\u001b[0m: <lambda>() missing 1 required positional argument: 'z'"
          ]
        }
      ],
      "source": [
        "l = [2, 1, 3, 4, 5, 6]\n",
        "reduce(lambda x, y,z:x+y+z, l)"
      ]
    },
    {
      "cell_type": "code",
      "execution_count": null,
      "id": "1a5ddd38-e850-4f3f-9b28-0435e4af7b2e",
      "metadata": {
        "id": "1a5ddd38-e850-4f3f-9b28-0435e4af7b2e",
        "outputId": "2f6ed8bd-04ce-4c0a-aee7-fb29643e5119"
      },
      "outputs": [
        {
          "ename": "TypeError",
          "evalue": "reduce() of empty iterable with no initial value",
          "output_type": "error",
          "traceback": [
            "\u001b[0;31m---------------------------------------------------------------------------\u001b[0m",
            "\u001b[0;31mTypeError\u001b[0m                                 Traceback (most recent call last)",
            "Cell \u001b[0;32mIn[41], line 2\u001b[0m\n\u001b[1;32m      1\u001b[0m l \u001b[38;5;241m=\u001b[39m [\u001b[38;5;241m2\u001b[39m, \u001b[38;5;241m1\u001b[39m, \u001b[38;5;241m3\u001b[39m, \u001b[38;5;241m4\u001b[39m, \u001b[38;5;241m4\u001b[39m, \u001b[38;5;241m5\u001b[39m, \u001b[38;5;241m6\u001b[39m]\n\u001b[0;32m----> 2\u001b[0m \u001b[43mreduce\u001b[49m\u001b[43m(\u001b[49m\u001b[38;5;28;43;01mlambda\u001b[39;49;00m\u001b[43m \u001b[49m\u001b[43mx\u001b[49m\u001b[43m,\u001b[49m\u001b[43m \u001b[49m\u001b[43my\u001b[49m\u001b[43m:\u001b[49m\u001b[43mx\u001b[49m\u001b[38;5;241;43m+\u001b[39;49m\u001b[43my\u001b[49m\u001b[43m,\u001b[49m\u001b[43m \u001b[49m\u001b[43m[\u001b[49m\u001b[43m]\u001b[49m\u001b[43m)\u001b[49m \n",
            "\u001b[0;31mTypeError\u001b[0m: reduce() of empty iterable with no initial value"
          ]
        }
      ],
      "source": [
        "l = [2, 1, 3, 4, 4, 5, 6]\n",
        "reduce(lambda x, y:x+y, [])"
      ]
    },
    {
      "cell_type": "code",
      "execution_count": null,
      "id": "55dc5b4e-91b4-4e58-ae58-88637709411c",
      "metadata": {
        "id": "55dc5b4e-91b4-4e58-ae58-88637709411c",
        "outputId": "4a327493-08ea-470d-8630-86b59c25af74"
      },
      "outputs": [
        {
          "data": {
            "text/plain": [
              "1"
            ]
          },
          "execution_count": 42,
          "metadata": {},
          "output_type": "execute_result"
        }
      ],
      "source": [
        "l = [2, 1, 3, 4, 4, 5, 6]\n",
        "reduce(lambda x, y:x+y, [1])"
      ]
    },
    {
      "cell_type": "code",
      "execution_count": null,
      "id": "1da93664-a68d-4b2a-9ea9-7802d63c8852",
      "metadata": {
        "id": "1da93664-a68d-4b2a-9ea9-7802d63c8852",
        "outputId": "985f4952-0c83-4702-d9ba-7bb50dc19d4b"
      },
      "outputs": [
        {
          "data": {
            "text/plain": [
              "2880"
            ]
          },
          "execution_count": 43,
          "metadata": {},
          "output_type": "execute_result"
        }
      ],
      "source": [
        "reduce(lambda x, y:x*y, l)"
      ]
    },
    {
      "cell_type": "code",
      "execution_count": null,
      "id": "2fc6b950-e194-40f2-a345-e49df023c854",
      "metadata": {
        "id": "2fc6b950-e194-40f2-a345-e49df023c854",
        "outputId": "b1bf5b00-1cfd-46f7-f50b-49cd33ee3a9b"
      },
      "outputs": [
        {
          "data": {
            "text/plain": [
              "'Data Science courses'"
            ]
          },
          "execution_count": 44,
          "metadata": {},
          "output_type": "execute_result"
        }
      ],
      "source": [
        "words = [\"Data\", \"Science\", \"courses\"]\n",
        "reduce(lambda x, y: x+ \" \"+y, words)"
      ]
    },
    {
      "cell_type": "code",
      "execution_count": null,
      "id": "32b38b5d-1912-4a80-9463-8f5ea568b00a",
      "metadata": {
        "id": "32b38b5d-1912-4a80-9463-8f5ea568b00a",
        "outputId": "f7ce822f-4e0e-4a0b-e17c-8432ea800644"
      },
      "outputs": [
        {
          "data": {
            "text/plain": [
              "10000"
            ]
          },
          "execution_count": 45,
          "metadata": {},
          "output_type": "execute_result"
        }
      ],
      "source": [
        "#the highest values at each stage you are comparing x and y\n",
        "numbers = [1, 2, 5, 3, 100, 1000, 6, 10000]\n",
        "reduce(lambda x, y: x if x>y else y, numbers)"
      ]
    },
    {
      "cell_type": "code",
      "execution_count": null,
      "id": "2ad8996c-7dac-4d3a-9c8e-6e36b9e43e40",
      "metadata": {
        "id": "2ad8996c-7dac-4d3a-9c8e-6e36b9e43e40"
      },
      "outputs": [],
      "source": [
        "def factorial(n):\n",
        "    return reduce(lambda x, y: x*y, range(1, n+1))"
      ]
    },
    {
      "cell_type": "code",
      "execution_count": null,
      "id": "b3247724-e498-42d6-aa6d-5a1dacc7bfcc",
      "metadata": {
        "id": "b3247724-e498-42d6-aa6d-5a1dacc7bfcc",
        "outputId": "96898fe6-50e2-42a3-f238-1ed7902e8455"
      },
      "outputs": [
        {
          "data": {
            "text/plain": [
              "120"
            ]
          },
          "execution_count": 47,
          "metadata": {},
          "output_type": "execute_result"
        }
      ],
      "source": [
        "factorial(5)"
      ]
    },
    {
      "cell_type": "code",
      "execution_count": null,
      "id": "c16f9290-c709-409f-a0b5-a30697404c38",
      "metadata": {
        "id": "c16f9290-c709-409f-a0b5-a30697404c38"
      },
      "outputs": [],
      "source": [
        "#filter function >> it is used to filter elements from an iterable based on some condition\n",
        "#syntax>> filter(function, iterable)"
      ]
    },
    {
      "cell_type": "code",
      "execution_count": null,
      "id": "f4f4586e-9c68-40c2-9931-6329c3052e52",
      "metadata": {
        "id": "f4f4586e-9c68-40c2-9931-6329c3052e52",
        "outputId": "0bffae4a-ccfc-4a65-a13a-bc77cf3295b8"
      },
      "outputs": [
        {
          "data": {
            "text/plain": [
              "[2, 1, 3, 4, 4, 5, 6]"
            ]
          },
          "execution_count": 49,
          "metadata": {},
          "output_type": "execute_result"
        }
      ],
      "source": [
        "l"
      ]
    },
    {
      "cell_type": "code",
      "execution_count": null,
      "id": "9a8f6a8a-0f8f-4a29-9c31-7b3da8729177",
      "metadata": {
        "id": "9a8f6a8a-0f8f-4a29-9c31-7b3da8729177",
        "outputId": "60154bb3-a3c9-4af6-b6b0-2adffe8489d9"
      },
      "outputs": [
        {
          "data": {
            "text/plain": [
              "[2, 4, 4, 6]"
            ]
          },
          "execution_count": 50,
          "metadata": {},
          "output_type": "execute_result"
        }
      ],
      "source": [
        "list(filter(lambda x: x%2 == 0, l))"
      ]
    },
    {
      "cell_type": "code",
      "execution_count": null,
      "id": "e1602261-98ad-43aa-8fb4-34e5e02f460e",
      "metadata": {
        "id": "e1602261-98ad-43aa-8fb4-34e5e02f460e",
        "outputId": "adbfe75c-7909-4949-9a89-b91ddec0724b"
      },
      "outputs": [
        {
          "data": {
            "text/plain": [
              "[1, 3, 5]"
            ]
          },
          "execution_count": 51,
          "metadata": {},
          "output_type": "execute_result"
        }
      ],
      "source": [
        "list(filter(lambda x: x%2 != 0, l))"
      ]
    },
    {
      "cell_type": "code",
      "execution_count": null,
      "id": "627a19ed-8475-4eb9-a948-49c990834f86",
      "metadata": {
        "id": "627a19ed-8475-4eb9-a948-49c990834f86",
        "outputId": "8e73ca77-ebee-4c77-c704-8ef68b1aafab"
      },
      "outputs": [
        {
          "data": {
            "text/plain": [
              "[-1, -2]"
            ]
          },
          "execution_count": 53,
          "metadata": {},
          "output_type": "execute_result"
        }
      ],
      "source": [
        "l1 = [-1, -2, 3, 4, 5]\n",
        "list(filter(lambda x: x < 0, l1))"
      ]
    },
    {
      "cell_type": "code",
      "execution_count": null,
      "id": "9ffc61c6-2913-463e-a647-28c87c48d53c",
      "metadata": {
        "id": "9ffc61c6-2913-463e-a647-28c87c48d53c",
        "outputId": "127d7ae7-96e2-44f1-8f90-79863487bb2b"
      },
      "outputs": [
        {
          "data": {
            "text/plain": [
              "[3, 4, 5]"
            ]
          },
          "execution_count": 54,
          "metadata": {},
          "output_type": "execute_result"
        }
      ],
      "source": [
        "list(filter(lambda x: x > 0, l1))"
      ]
    },
    {
      "cell_type": "code",
      "execution_count": null,
      "id": "712cea4c-1d69-4431-9f18-edb771b10135",
      "metadata": {
        "id": "712cea4c-1d69-4431-9f18-edb771b10135",
        "outputId": "aa223e08-b2bb-4d42-a113-f8b4f6ad8cd7"
      },
      "outputs": [
        {
          "data": {
            "text/plain": [
              "['pwskills', 'data scince']"
            ]
          },
          "execution_count": 55,
          "metadata": {},
          "output_type": "execute_result"
        }
      ],
      "source": [
        "s = [\"Ajay\", \"pwskills\", \"data scince\"]\n",
        "list(filter(lambda x: len(x) > 4, s))"
      ]
    },
    {
      "cell_type": "code",
      "execution_count": null,
      "id": "42a4b285-eccc-4807-b2fd-baa433cfa1fe",
      "metadata": {
        "id": "42a4b285-eccc-4807-b2fd-baa433cfa1fe"
      },
      "outputs": [],
      "source": [
        "def check_even(num):\n",
        "    if num%2 == 0"
      ]
    }
  ],
  "metadata": {
    "kernelspec": {
      "display_name": "Python 3 (ipykernel)",
      "language": "python",
      "name": "python3"
    },
    "language_info": {
      "codemirror_mode": {
        "name": "ipython",
        "version": 3
      },
      "file_extension": ".py",
      "mimetype": "text/x-python",
      "name": "python",
      "nbconvert_exporter": "python",
      "pygments_lexer": "ipython3",
      "version": "3.10.8"
    },
    "colab": {
      "provenance": [],
      "include_colab_link": true
    }
  },
  "nbformat": 4,
  "nbformat_minor": 5
}