{
  "nbformat": 4,
  "nbformat_minor": 0,
  "metadata": {
    "colab": {
      "provenance": []
    },
    "kernelspec": {
      "name": "python3",
      "display_name": "Python 3"
    },
    "language_info": {
      "name": "python"
    }
  },
  "cells": [
    {
      "cell_type": "markdown",
      "source": [
        "### 1.  Write a Python function that takes a list of numbers as input and returns the sum of all even numbers in the list\n"
      ],
      "metadata": {
        "id": "_g_pCZ2CcA_l"
      }
    },
    {
      "cell_type": "code",
      "source": [
        "def sum_even(l):\n",
        "  num=0\n",
        "  for i in l:\n",
        "    if i %2==0:\n",
        "      num+=i\n",
        "  return num\n",
        "\n",
        "print(sum_even([1,2,3,4,5,6]))"
      ],
      "metadata": {
        "colab": {
          "base_uri": "https://localhost:8080/"
        },
        "id": "FcRlrb2tcNRe",
        "outputId": "7a45c32e-bf48-46b8-aabc-50860b3a2df8"
      },
      "execution_count": 32,
      "outputs": [
        {
          "output_type": "stream",
          "name": "stdout",
          "text": [
            "12\n"
          ]
        }
      ]
    },
    {
      "cell_type": "markdown",
      "source": [
        "### 2. Create a Python function that accepts a string and returns the reverse of that string"
      ],
      "metadata": {
        "id": "VG-rhIPIf4ge"
      }
    },
    {
      "cell_type": "code",
      "source": [
        "def reverse_string(s):\n",
        "    return s[::-1]\n",
        "\n",
        "print(reverse_string(\"ankita\"))\n"
      ],
      "metadata": {
        "colab": {
          "base_uri": "https://localhost:8080/"
        },
        "id": "clZe9jLRgbVv",
        "outputId": "14c87ade-24fc-4aeb-e004-c506f8ac7e94"
      },
      "execution_count": 51,
      "outputs": [
        {
          "output_type": "stream",
          "name": "stdout",
          "text": [
            "atikna\n"
          ]
        }
      ]
    },
    {
      "cell_type": "markdown",
      "source": [
        "### 3.  Implement a Python function that takes a list of integers and returns a new list containing the squares of each number\n"
      ],
      "metadata": {
        "id": "lct-KbF0lOmr"
      }
    },
    {
      "cell_type": "code",
      "source": [
        "\n",
        "def product(l):\n",
        "  sq=[]\n",
        "  for i in l:\n",
        "    sq.append(i**2)\n",
        "  return sq\n",
        "\n",
        "product([1,2,3,4,5])"
      ],
      "metadata": {
        "colab": {
          "base_uri": "https://localhost:8080/"
        },
        "id": "yvt1-yphlUW6",
        "outputId": "73699059-af4d-404c-e1f0-8cfdde48ed63"
      },
      "execution_count": 54,
      "outputs": [
        {
          "output_type": "execute_result",
          "data": {
            "text/plain": [
              "[1, 4, 9, 16, 25]"
            ]
          },
          "metadata": {},
          "execution_count": 54
        }
      ]
    },
    {
      "cell_type": "markdown",
      "source": [
        "### 4.. Write a Python function that checks if a given number is prime or not from 1 to 200"
      ],
      "metadata": {
        "id": "ohoHLwOsmbV1"
      }
    },
    {
      "cell_type": "code",
      "source": [
        "def is_prime_recursive(n, divisor=None):\n",
        "    if n < 2:\n",
        "        return False\n",
        "    if divisor is None:\n",
        "        divisor = int(n ** 0.5)  # Start checking from sqrt(n)\n",
        "    if divisor < 2:\n",
        "        return True\n",
        "    if n % divisor == 0:\n",
        "        return False\n",
        "    return is_prime_recursive(n, divisor - 1)\n",
        "\n",
        "is_prime_recursive(23)\n"
      ],
      "metadata": {
        "colab": {
          "base_uri": "https://localhost:8080/"
        },
        "id": "0hZouguemiVd",
        "outputId": "3e44a84a-c462-4a4e-9182-55681c5bfdba"
      },
      "execution_count": 56,
      "outputs": [
        {
          "output_type": "execute_result",
          "data": {
            "text/plain": [
              "True"
            ]
          },
          "metadata": {},
          "execution_count": 56
        }
      ]
    },
    {
      "cell_type": "markdown",
      "source": [
        "###5.Create an iterator class in Python that generates the Fibonacci sequence up to a specified number ofterms"
      ],
      "metadata": {
        "id": "bZweN7TOnigv"
      }
    },
    {
      "cell_type": "code",
      "source": [
        "class FibonacciIterator:\n",
        "    def __init__(self, max_terms):\n",
        "        self.max_terms = max_terms\n",
        "        self.a, self.b = 0, 1\n",
        "        self.count = 0\n",
        "\n",
        "    def __iter__(self):\n",
        "        return self\n",
        "\n",
        "    def __next__(self):\n",
        "        if self.count >= self.max_terms:\n",
        "            raise StopIteration\n",
        "        self.count += 1\n",
        "        fib_num = self.a\n",
        "        self.a, self.b = self.b, self.a + self.b\n",
        "        return fib_num\n",
        "\n",
        "fib = FibonacciIterator(10)\n",
        "print(list(fib))"
      ],
      "metadata": {
        "colab": {
          "base_uri": "https://localhost:8080/"
        },
        "id": "1gfrGRaEntaV",
        "outputId": "38245078-4e30-4fa5-9fc9-5740b979e08b"
      },
      "execution_count": 59,
      "outputs": [
        {
          "output_type": "stream",
          "name": "stdout",
          "text": [
            "[0, 1, 1, 2, 3, 5, 8, 13, 21, 34]\n"
          ]
        }
      ]
    },
    {
      "cell_type": "markdown",
      "source": [
        "### 6.  Write a generator function in Python that yields the powers of 2 up to a given exponent"
      ],
      "metadata": {
        "id": "ZwpBbWxDog-o"
      }
    },
    {
      "cell_type": "code",
      "source": [
        "def power_of_two(n):\n",
        "    for i in range(n + 1):\n",
        "        yield 2 ** i\n",
        "\n",
        "print(list(power_of_two(5)))"
      ],
      "metadata": {
        "colab": {
          "base_uri": "https://localhost:8080/"
        },
        "id": "dPRlQMAPokv_",
        "outputId": "5a04ae53-e70a-4df5-8f3f-a43f0beafad3"
      },
      "execution_count": 60,
      "outputs": [
        {
          "output_type": "stream",
          "name": "stdout",
          "text": [
            "[1, 2, 4, 8, 16, 32]\n"
          ]
        }
      ]
    },
    {
      "cell_type": "markdown",
      "source": [
        "### 7.  Implement a generator function that reads a file line by line and yields each line as a string."
      ],
      "metadata": {
        "id": "kn-zq9lJp5Em"
      }
    },
    {
      "cell_type": "code",
      "source": [
        "def read_file_line_by_line(filename):\n",
        "    with open(filename, 'r') as file:\n",
        "        for line in file:\n",
        "            yield line.strip()\n",
        "\n"
      ],
      "metadata": {
        "id": "I6_SAYknqF_D"
      },
      "execution_count": 61,
      "outputs": []
    },
    {
      "cell_type": "markdown",
      "source": [
        "### 8. Use a lambda function in Python to sort a list of tuples based on the second element of each tuple"
      ],
      "metadata": {
        "id": "NtNFbWmd3ePn"
      }
    },
    {
      "cell_type": "code",
      "source": [
        "tuples_list = [(1, 3), (2, 2), (4, 1)]\n",
        "sorted_list = sorted(tuples_list, key=lambda x: x[1])\n",
        "\n",
        "print(sorted_list)"
      ],
      "metadata": {
        "colab": {
          "base_uri": "https://localhost:8080/"
        },
        "id": "4UYAquQU3iai",
        "outputId": "d4cd535d-50f0-4fe7-b78b-8db8f7f4e721"
      },
      "execution_count": 62,
      "outputs": [
        {
          "output_type": "stream",
          "name": "stdout",
          "text": [
            "[(4, 1), (2, 2), (1, 3)]\n"
          ]
        }
      ]
    },
    {
      "cell_type": "markdown",
      "source": [
        "### 9.  Write a Python program that uses `map()` to convert a list of temperatures from Celsius to Fahrenheit"
      ],
      "metadata": {
        "id": "eFodbDPS3mXk"
      }
    },
    {
      "cell_type": "code",
      "source": [
        "celsius = [0, 20, 37, 100]\n",
        "fahrenheit = list(map(lambda c: (c * 9/5) + 32, celsius))\n",
        "\n",
        "print(fahrenheit)\n"
      ],
      "metadata": {
        "colab": {
          "base_uri": "https://localhost:8080/"
        },
        "id": "cvuqmb9-3rT-",
        "outputId": "50406837-8bb5-48c3-816f-3fa15e7a0299"
      },
      "execution_count": 63,
      "outputs": [
        {
          "output_type": "stream",
          "name": "stdout",
          "text": [
            "[32.0, 68.0, 98.6, 212.0]\n"
          ]
        }
      ]
    },
    {
      "cell_type": "markdown",
      "source": [
        "### 10. Create a Python program that uses `filter()` to remove all the vowels from a given string"
      ],
      "metadata": {
        "id": "Zh6Rtsiv3zwE"
      }
    },
    {
      "cell_type": "code",
      "source": [
        "celsius = [0, 20, 37, 100]\n",
        "fahrenheit = list(map(lambda c: (c * 9/5) + 32, celsius))\n",
        "\n",
        "print(fahrenheit)\n"
      ],
      "metadata": {
        "id": "l_e_0QCx32Go"
      },
      "execution_count": null,
      "outputs": []
    },
    {
      "cell_type": "markdown",
      "source": [
        "### 11. Imagine an accounting routine used in a book shop. It works on a list with sublists, which look like this\n",
        "Write a Python program, which returns a list with 2-tuples. Each tuple consists of the order number and the\n",
        "product of the price per item and the quantity. The product should be increased by 10,- € if the value of the\n",
        "order is smaller than 100,00 €.\n",
        "\n",
        "Write a Python program using lambda and map"
      ],
      "metadata": {
        "id": "FAuMBYL13471"
      }
    },
    {
      "cell_type": "code",
      "source": [
        "\n",
        "orders = [\n",
        "    (34587, \"Learning Python, Mark Lutz\", 4, 40.95),\n",
        "    (98762, \"Programming Python, Mark Lutz\", 5, 56.80),\n",
        "    (77226, \"Head First Python, Paul Barry\", 3, 32.95),\n",
        "    (88112, \"Einführung in Python3, Bernd Klein\", 3, 24.99)\n",
        "]\n",
        "\n",
        "\n",
        "updated_orders = list(map(lambda order: (order[0], order[2] * order[3] if order[2] * order[3] >= 100 else order[2] * order[3] + 10), orders))\n",
        "\n",
        "\n",
        "print(updated_orders)\n"
      ],
      "metadata": {
        "colab": {
          "base_uri": "https://localhost:8080/"
        },
        "id": "ltJsOoHW48OL",
        "outputId": "8b4a561c-7625-4335-f3e1-1384ab89c98a"
      },
      "execution_count": 64,
      "outputs": [
        {
          "output_type": "stream",
          "name": "stdout",
          "text": [
            "[(34587, 163.8), (98762, 284.0), (77226, 108.85000000000001), (88112, 84.97)]\n"
          ]
        }
      ]
    }
  ]
}